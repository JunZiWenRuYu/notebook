{
 "cells": [
  {
   "cell_type": "code",
   "execution_count": null,
   "metadata": {},
   "outputs": [],
   "source": [
    "\"\"\"\n",
    "卷积用法思路以及如何解决问题\n",
    "\"\"\"\n",
    "\n",
    "import pandas as pd\n",
    "import numpy as np\n",
    "import matplotlib.pyplot as plt\n",
    "%matplotlib inline\n",
    "import warnings\n",
    "from sklearn.model_selection import train_test_split\n",
    "from keras.utils.np_utils import to_categorical\n",
    "warnings.filterwarnings('ignore')\n",
    "train_x =pd.read_csv('train_july.csv')\n",
    "test = pd.read_csv('test_july.csv')\n",
    "train_y = train_x['label']"
   ]
  },
  {
   "cell_type": "code",
   "execution_count": null,
   "metadata": {},
   "outputs": [],
   "source": [
    "train_x =train_x.drop(['label'],axis=1)\n",
    "train_x = train_x/255.0\n",
    "test = test.drop(['index'],axis=1)\n",
    "test = test/255.0"
   ]
  },
  {
   "cell_type": "code",
   "execution_count": null,
   "metadata": {},
   "outputs": [],
   "source": [
    "train_x = train_x.values.reshape(-1,28,28,1)\n",
    "test = test.values.reshape(-1,28,28,1)"
   ]
  },
  {
   "cell_type": "code",
   "execution_count": null,
   "metadata": {},
   "outputs": [],
   "source": [
    "\n",
    "random_seed=2\n",
    "train_y = to_categorical(train_y, num_classes = 10)\n",
    "# Split the train and the validation set for the fitting\n",
    "train_x, val_x, train_y, val_y = train_test_split(train_x, train_y, test_size = 0.1, random_state=random_seed)"
   ]
  },
  {
   "cell_type": "code",
   "execution_count": null,
   "metadata": {},
   "outputs": [],
   "source": []
  },
  {
   "cell_type": "code",
   "execution_count": null,
   "metadata": {},
   "outputs": [],
   "source": [
    "from keras.layers import Dense # 核心层，用来建立一个层\n",
    "from keras.layers import Dropout # 正则化，无效化部分神经单元\n",
    "from keras.layers import Conv2D # 卷积\n",
    "from keras.layers import MaxPool2D #最大池化\n",
    "from keras.layers import Flatten # 把多维转化为一维，用作全连接\n",
    "from keras.optimizers import SGD,RMSprop #RMSprop :自适应学习率\n",
    "from keras.models import Sequential # \n",
    "from keras.preprocessing.image import ImageDataGenerator\n",
    "#当指标停止改进时降低学习率。\n",
    "#一旦学习停滞，模型通常会将学习率降低2-10倍。该回调监视数量，如果“耐心”数量的时期没有看到改善，则学习速率降低。\n",
    "from keras.callbacks import ReduceLROnPlateau\n"
   ]
  },
  {
   "cell_type": "code",
   "execution_count": null,
   "metadata": {},
   "outputs": [],
   "source": [
    "model = Sequential()\n",
    "model.add(Conv2D(filters = 32,\n",
    "                kernel_size=(5,5),\n",
    "                padding='Same',\n",
    "                activation='relu',\n",
    "                input_shape=(28,28,1)))\n",
    "# model.add(Conv2D(filters = 32, \n",
    "#                 kernel_size=(5,5),\n",
    "#                 padding='Same', \n",
    "#                 activation='relu',\n",
    "#                 input_shape=(28,28,1)))\n",
    "\n",
    "model.add(Conv2D(filters = 32, kernel_size = (5,5),padding = 'Same', \n",
    "                 activation ='relu'))\n",
    "model.add(MaxPool2D(pool_size=(2,2)))\n",
    "model.add(Dropout(0.25))\n",
    "\n",
    "\n",
    "model.add(Conv2D(filters = 64, kernel_size = (3,3),padding = 'Same', \n",
    "                 activation ='relu'))\n",
    "model.add(Conv2D(filters = 64, kernel_size = (3,3),padding = 'Same', \n",
    "                 activation ='relu'))\n",
    "model.add(MaxPool2D(pool_size=(2,2), strides=(2,2)))\n",
    "model.add(Dropout(0.25))\n",
    "\n",
    "\n",
    "model.add(Flatten())\n",
    "model.add(Dense(256, activation = \"relu\"))\n",
    "model.add(Dropout(0.5))\n",
    "model.add(Dense(10, activation = \"softmax\"))"
   ]
  },
  {
   "cell_type": "code",
   "execution_count": null,
   "metadata": {},
   "outputs": [],
   "source": [
    "# 优化器\n",
    "optimizer = RMSprop(lr=0.01,rho=0.9,epsilon=1e-08,decay=0.01)"
   ]
  },
  {
   "cell_type": "code",
   "execution_count": null,
   "metadata": {},
   "outputs": [],
   "source": [
    "# Compile the model\n",
    "# 配置培训模型\n",
    "model.compile(optimizer = optimizer,loss = \"categorical_crossentropy\", metrics=[\"accuracy\"])"
   ]
  },
  {
   "cell_type": "code",
   "execution_count": null,
   "metadata": {},
   "outputs": [],
   "source": [
    "# 回调模型速率\n",
    "learning_rate_reduction = ReduceLROnPlateau(monitor='val_acc',\n",
    "                                           patience=3, #没有改善得时期数，之后学习率会降低\n",
    "                                           verbose=1, #状态\n",
    "                                           factor=0.5, # 学习率降低得因素 new_lr = lr * factor\n",
    "                                           min_lr=0.00001 # 学习率得下线\n",
    "                                           )"
   ]
  },
  {
   "cell_type": "code",
   "execution_count": null,
   "metadata": {},
   "outputs": [],
   "source": [
    "epochs = 1\n",
    "batch_size=86"
   ]
  },
  {
   "cell_type": "code",
   "execution_count": null,
   "metadata": {},
   "outputs": [],
   "source": [
    "#ImageDataGenerator：数据处理和图片数据增强（例如旋转，移动之类的）\n",
    "datagen = ImageDataGenerator(\n",
    "        featurewise_center=False,  # set input mean to 0 over the dataset\n",
    "        samplewise_center=False,  # set each sample mean to 0\n",
    "        featurewise_std_normalization=False,  # divide inputs by std of the dataset\n",
    "        samplewise_std_normalization=False,  # divide each input by its std\n",
    "        zca_whitening=False,  # apply ZCA whitening\n",
    "        rotation_range=10,  # randomly rotate images in the range (degrees, 0 to 180)\n",
    "        zoom_range = 0.1, # Randomly zoom image \n",
    "        width_shift_range=0.1,  # randomly shift images horizontally (fraction of total width)\n",
    "        height_shift_range=0.1,  # randomly shift images vertically (fraction of total height)\n",
    "        horizontal_flip=False,  # randomly flip images\n",
    "        vertical_flip=False)  # randomly flip images\n",
    "datagen.fit(train_x)"
   ]
  },
  {
   "cell_type": "code",
   "execution_count": null,
   "metadata": {},
   "outputs": [],
   "source": [
    "#datagen.flow 对图片进行增强\n",
    "history = model.fit_generator(datagen.flow(train_x,train_y,batch_size=batch_size),\n",
    "                             epochs=epochs,validation_data=(val_x,val_y),\n",
    "                             verbose=2,steps_per_epoch=train_x.shape[0]//batch_size,\n",
    "                             callbacks=[learning_rate_reduction])"
   ]
  },
  {
   "cell_type": "code",
   "execution_count": null,
   "metadata": {},
   "outputs": [],
   "source": []
  }
 ],
 "metadata": {
  "kernelspec": {
   "display_name": "Python 3",
   "language": "python",
   "name": "python3"
  },
  "language_info": {
   "codemirror_mode": {
    "name": "ipython",
    "version": 3
   },
   "file_extension": ".py",
   "mimetype": "text/x-python",
   "name": "python",
   "nbconvert_exporter": "python",
   "pygments_lexer": "ipython3",
   "version": "3.6.4"
  }
 },
 "nbformat": 4,
 "nbformat_minor": 2
}
